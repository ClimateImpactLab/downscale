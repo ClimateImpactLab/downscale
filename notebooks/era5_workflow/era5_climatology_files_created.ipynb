{
 "cells": [
  {
   "cell_type": "markdown",
   "metadata": {},
   "source": [
    "**Create 31-day running mean climatology for ERA-5 v1.1 tas, tmax, tmin**"
   ]
  },
  {
   "cell_type": "code",
   "execution_count": 83,
   "metadata": {},
   "outputs": [],
   "source": [
    "%matplotlib inline\n",
    "\n",
    "import xarray as xr\n",
    "import numpy as np\n",
    "import os as os\n",
    "import matplotlib.pyplot as plt\n",
    "from cartopy import config\n",
    "import cartopy.crs as ccrs\n",
    "import matplotlib.lines as mlines\n",
    "import matplotlib.patches as mpatches\n",
    "import pandas as pd\n",
    "import itertools\n",
    "import datetime \n",
    "import toolz\n",
    "from datetime import date\n",
    "from pathlib import Path, PurePath\n",
    "from xclim.core.calendar import convert_calendar\n",
    "\n",
    "import sys\n",
    "\n",
    "import dask.distributed as dd\n",
    "import dask\n",
    "import rhg_compute_tools.kubernetes as rhgk"
   ]
  },
  {
   "cell_type": "code",
   "execution_count": 84,
   "metadata": {},
   "outputs": [],
   "source": [
    "client, cluster = rhgk.get_big_cluster()\n",
    "cluster.scale(100)"
   ]
  },
  {
   "cell_type": "code",
   "execution_count": 85,
   "metadata": {},
   "outputs": [
    {
     "data": {
      "text/html": [
       "<table style=\"border: 2px solid white;\">\n",
       "<tr>\n",
       "<td style=\"vertical-align: top; border: 0px solid white\">\n",
       "<h3 style=\"text-align: left;\">Client</h3>\n",
       "<ul style=\"text-align: left; list-style: none; margin: 0; padding: 0;\">\n",
       "  <li><b>Scheduler: </b>gateway://traefik-impactlab-hub-dask-gateway.impactlab-hub:80/impactlab-hub.f0315012d6bc4cd1ae9e38568e37a4cb</li>\n",
       "  <li><b>Dashboard: </b><a href='/services/dask-gateway/clusters/impactlab-hub.f0315012d6bc4cd1ae9e38568e37a4cb/status' target='_blank'>/services/dask-gateway/clusters/impactlab-hub.f0315012d6bc4cd1ae9e38568e37a4cb/status</a></li>\n",
       "</ul>\n",
       "</td>\n",
       "<td style=\"vertical-align: top; border: 0px solid white\">\n",
       "<h3 style=\"text-align: left;\">Cluster</h3>\n",
       "<ul style=\"text-align: left; list-style:none; margin: 0; padding: 0;\">\n",
       "  <li><b>Workers: </b>4</li>\n",
       "  <li><b>Cores: </b>4</li>\n",
       "  <li><b>Memory: </b>96.64 GB</li>\n",
       "</ul>\n",
       "</td>\n",
       "</tr>\n",
       "</table>"
      ],
      "text/plain": [
       "<Client: 'tls://10.20.210.2:8786' processes=4 threads=4, memory=96.64 GB>"
      ]
     },
     "execution_count": 85,
     "metadata": {},
     "output_type": "execute_result"
    }
   ],
   "source": [
    "client"
   ]
  },
  {
   "cell_type": "code",
   "execution_count": 110,
   "metadata": {},
   "outputs": [],
   "source": [
    "cluster.close()"
   ]
  },
  {
   "cell_type": "code",
   "execution_count": 95,
   "metadata": {},
   "outputs": [],
   "source": [
    "yrs = np.arange(1994,2016) "
   ]
  },
  {
   "cell_type": "code",
   "execution_count": 96,
   "metadata": {},
   "outputs": [],
   "source": [
    "def pull_ERA5_variable(variable):\n",
    "    filenames = []\n",
    "    \n",
    "    for num_yrs in range(len(yrs)):\n",
    "        filename = '/gcs/impactlab-data/climate/source_data/ERA-5/day/{}/v1.1/{}_daily_{}-{}.nc'.format(variable, variable, yrs[num_yrs], yrs[num_yrs])\n",
    "        filenames.append(filename)\n",
    "    \n",
    "    era5_var = xr.open_mfdataset(filenames, \n",
    "                               concat_dim='time', combine='by_coords')\n",
    "    \n",
    "    var_all = era5_var[variable]\n",
    "    \n",
    "    return var_all\n"
   ]
  },
  {
   "cell_type": "code",
   "execution_count": 97,
   "metadata": {},
   "outputs": [],
   "source": [
    "da = pull_ERA5_variable('tmin')"
   ]
  },
  {
   "cell_type": "code",
   "execution_count": 98,
   "metadata": {},
   "outputs": [],
   "source": [
    "da = da.persist()"
   ]
  },
  {
   "cell_type": "code",
   "execution_count": 99,
   "metadata": {},
   "outputs": [
    {
     "name": "stderr",
     "output_type": "stream",
     "text": [
      "/srv/conda/envs/notebook/lib/python3.8/site-packages/xarray/core/indexing.py:1369: PerformanceWarning: Slicing is producing a large chunk. To accept the large\n",
      "chunk and silence this warning, set the option\n",
      "    >>> with dask.config.set(**{'array.slicing.split_large_chunks': False}):\n",
      "    ...     array[indexer]\n",
      "\n",
      "To avoid creating the large chunks, set the option\n",
      "    >>> with dask.config.set(**{'array.slicing.split_large_chunks': True}):\n",
      "    ...     array[indexer]\n",
      "  return self.array[key]\n"
     ]
    }
   ],
   "source": [
    "# remove leap days and convert calendar to no-leap\n",
    "da = convert_calendar(da, 'noleap')"
   ]
  },
  {
   "cell_type": "code",
   "execution_count": 100,
   "metadata": {},
   "outputs": [],
   "source": [
    "def assign_coords(da):\n",
    "    years = np.arange(da.time.dt.year.min(),da.time.dt.year.max()+1)\n",
    "    \n",
    "    da_wcoords = da.assign_coords(dayofyear=xr.DataArray(np.array([np.arange(1,366)]*len(years)).flatten(),\n",
    "                                                dims=('time'),\n",
    "                                                coords={'time':da.time})).persist()\n",
    "    return da_wcoords"
   ]
  },
  {
   "cell_type": "code",
   "execution_count": 101,
   "metadata": {},
   "outputs": [],
   "source": [
    "da = assign_coords(da)"
   ]
  },
  {
   "cell_type": "code",
   "execution_count": 102,
   "metadata": {},
   "outputs": [],
   "source": [
    "da_dayofyear_mean = da.sel(time=slice('1994-12-17','2015-01-15')).groupby('dayofyear').mean().persist()"
   ]
  },
  {
   "cell_type": "code",
   "execution_count": 103,
   "metadata": {},
   "outputs": [
    {
     "data": {
      "text/plain": [
       "[<matplotlib.lines.Line2D at 0x7f6aad9db940>]"
      ]
     },
     "execution_count": 103,
     "metadata": {},
     "output_type": "execute_result"
    },
    {
     "data": {
      "image/png": "[encoded data removed]",
      "text/plain": [
       "<Figure size 432x288 with 1 Axes>"
      ]
     },
     "metadata": {
      "needs_background": "light"
     },
     "output_type": "display_data"
    }
   ],
   "source": [
    "da_dayofyear_mean.sel(latitude=35.0,longitude=180.0).plot()"
   ]
  },
  {
   "cell_type": "code",
   "execution_count": 104,
   "metadata": {},
   "outputs": [
    {
     "data": {
      "text/plain": [
       "1.4117270708084106"
      ]
     },
     "execution_count": 104,
     "metadata": {},
     "output_type": "execute_result"
    }
   ],
   "source": [
    "da_dayofyear_mean.nbytes / (1024**3)"
   ]
  },
  {
   "cell_type": "code",
   "execution_count": 105,
   "metadata": {},
   "outputs": [],
   "source": [
    "da_dayofyear_mean = da_dayofyear_mean.load()"
   ]
  },
  {
   "cell_type": "code",
   "execution_count": 106,
   "metadata": {},
   "outputs": [],
   "source": [
    "def rolling_31day_mean(da):\n",
    "    roll = da.pad(dayofyear=15, mode='wrap').rolling(dayofyear=31, center=True).mean().dropna('dayofyear')\n",
    "    return roll"
   ]
  },
  {
   "cell_type": "code",
   "execution_count": 107,
   "metadata": {},
   "outputs": [],
   "source": [
    "da_rolling_mean = rolling_31day_mean(da_dayofyear_mean)"
   ]
  },
  {
   "cell_type": "code",
   "execution_count": 108,
   "metadata": {},
   "outputs": [
    {
     "data": {
      "text/plain": [
       "[<matplotlib.lines.Line2D at 0x7f6aac2808b0>]"
      ]
     },
     "execution_count": 108,
     "metadata": {},
     "output_type": "execute_result"
    },
    {
     "data": {
      "image/png": "[encoded data removed]",
      "text/plain": [
       "<Figure size 432x288 with 1 Axes>"
      ]
     },
     "metadata": {
      "needs_background": "light"
     },
     "output_type": "display_data"
    }
   ],
   "source": [
    "da_rolling_mean.sel(latitude=35.0,longitude=180.0).plot()"
   ]
  },
  {
   "cell_type": "code",
   "execution_count": 109,
   "metadata": {},
   "outputs": [],
   "source": [
    "def create_netcdf(da):\n",
    "    '''\n",
    "    create netcdf file.\n",
    "    '''\n",
    "    out_direc = ('/gcs/impactlab-data/climate/source_data/ERA-5/climatology/v1.1/')\n",
    "    out_filename = ('tmin_1995_2015_climo.nc')\n",
    "    \n",
    "    if not Path(out_direc).exists():\n",
    "                    Path(out_direc).mkdir(parents=True, exist_ok=True)\n",
    "            \n",
    "    # add attributes to dataset and save file \n",
    "    attrsdt = {\n",
    "        'author': 'Meredith Fish',\n",
    "        'contact': 'meredith.fish@rutgers.edu',\n",
    "        'project': ('downscaling CMIP6'),\n",
    "        'source': ('/gcs/climate/source_data/ERA-5/day/tmin/v1.1'),\n",
    "        'method': ('31-rolling mean climatology, no leap days'),\n",
    "        'created': str(date.today()),\n",
    "        'units': 'K'}\n",
    "\n",
    "    da.attrs.update(attrsdt)\n",
    "    \n",
    "    # save file\n",
    "    da.to_netcdf(Path(PurePath(out_direc).joinpath(out_filename)))"
   ]
  },
  {
   "cell_type": "code",
   "execution_count": 79,
   "metadata": {},
   "outputs": [],
   "source": [
    "create_netcdf(da_rolling_mean)"
   ]
  },
  {
   "cell_type": "code",
   "execution_count": null,
   "metadata": {},
   "outputs": [],
   "source": []
  },
  {
   "cell_type": "code",
   "execution_count": null,
   "metadata": {},
   "outputs": [],
   "source": []
  },
  {
   "cell_type": "code",
   "execution_count": null,
   "metadata": {},
   "outputs": [],
   "source": []
  },
  {
   "cell_type": "code",
   "execution_count": null,
   "metadata": {},
   "outputs": [],
   "source": []
  }
 ],
 "metadata": {
  "kernelspec": {
   "display_name": "Python 3",
   "language": "python",
   "name": "python3"
  },
  "language_info": {
   "codemirror_mode": {
    "name": "ipython",
    "version": 3
   },
   "file_extension": ".py",
   "mimetype": "text/x-python",
   "name": "python",
   "nbconvert_exporter": "python",
   "pygments_lexer": "ipython3",
   "version": "3.8.6"
  }
 },
 "nbformat": 4,
 "nbformat_minor": 4
}
