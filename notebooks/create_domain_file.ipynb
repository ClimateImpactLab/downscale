{
 "cells": [
  {
   "cell_type": "code",
   "execution_count": 1,
   "metadata": {},
   "outputs": [],
   "source": [
    "%matplotlib inline\n",
    "import xarray as xr\n",
    "import numpy as np \n",
    "import pandas as pd\n",
    "import matplotlib.pyplot as plt\n",
    "import os \n",
    "import gcsfs\n",
    "\n",
    "import xesmf as xe\n",
    "from time import gmtime, strftime"
   ]
  },
  {
   "cell_type": "code",
   "execution_count": 2,
   "metadata": {},
   "outputs": [],
   "source": [
    "fs = gcsfs.GCSFileSystem(token='/opt/gcsfuse_tokens/impactlab-data.json')"
   ]
  },
  {
   "cell_type": "markdown",
   "metadata": {},
   "source": [
    "load example domain file (from RASM, but it's essentially the same as CESM - RASM has the same structure as CESM, just different component models)"
   ]
  },
  {
   "cell_type": "code",
   "execution_count": 3,
   "metadata": {},
   "outputs": [],
   "source": [
    "domain_rasm = xr.open_dataset('./domain.lnd.wr50a_ar9v4.100920.nc')"
   ]
  },
  {
   "cell_type": "markdown",
   "metadata": {},
   "source": [
    "define domain grids using `xesmf`"
   ]
  },
  {
   "cell_type": "code",
   "execution_count": 5,
   "metadata": {},
   "outputs": [],
   "source": [
    "def create_domain_dataset(resolution=1, lat_name='lat', lon_name='lon'):\n",
    "    grid_global = xe.util.grid_global(resolution, resolution)\n",
    "    domain = grid_global.rename({\"x\": lon_name, \"y\": lat_name})\n",
    "\n",
    "    domain[lat_name] = np.unique(domain[lat_name].values)\n",
    "    domain[lon_name] = np.unique(domain[lon_name].values)\n",
    "    domain['lon_b'] = np.unique(domain['lon_b'].values)\n",
    "    domain['lat_b'] = np.unique(domain['lat_b'].values)\n",
    "    \n",
    "    attrs = {'title': 'Rhodium/CIL bias correction and downscaling %s-degree grid' %str(resolution), \n",
    "         'history': 'created by Diana Gergel, %s' %strftime(\"%Y-%m-%d %H:%M:%S\", gmtime()), \n",
    "         'source code': 'grid specified by xesmf, xe.util.grid_global(%s, %s)' %(resolution, resolution)}\n",
    "    domain.attrs.update(attrs)\n",
    "    domain['lon'].attrs.update({'long_name': 'longitude of grid cell center', 'units': 'degrees_east'})\n",
    "    domain['lat'].attrs.update({'long_name': 'latitude of grid cell center', 'units': 'degrees_north'})\n",
    "    domain['lon_b'].attrs.update({'long_name': 'longitude bounds', 'units': 'degrees_east'})\n",
    "    domain['lat_b'].attrs.update({'long_name': 'latitude bounds', 'units': 'degrees_north'})\n",
    "    \n",
    "    return domain "
   ]
  },
  {
   "cell_type": "code",
   "execution_count": 6,
   "metadata": {},
   "outputs": [],
   "source": [
    "domain_coarse = create_domain_dataset(resolution=1)"
   ]
  },
  {
   "cell_type": "code",
   "execution_count": 7,
   "metadata": {},
   "outputs": [],
   "source": [
    "domain_fine = create_domain_dataset(resolution=0.25)"
   ]
  },
  {
   "cell_type": "markdown",
   "metadata": {},
   "source": [
    "save as NetCDFs and zarrs "
   ]
  },
  {
   "cell_type": "code",
   "execution_count": 8,
   "metadata": {},
   "outputs": [],
   "source": [
    "domain_coarse_filename = '/home/jovyan/downscaling/downscale/domain.1x1.nc'\n",
    "domain_fine_filename = '/home/jovyan/downscaling/downscale/domain.0p25x0p25.nc'"
   ]
  },
  {
   "cell_type": "code",
   "execution_count": 10,
   "metadata": {},
   "outputs": [],
   "source": [
    "'''coarse_zarr = 'gs://impactlab-data/climate/downscaling/domain.1x1.zarr'\n",
    "fine_zarr = 'gs://impactlab-data/climate/downscaling/domain.0p25x0p25.zarr'\n",
    "coarse_store = fs.get_mapper(coarse_zarr, check=False)\n",
    "fine_store = fs.get_mapper(fine_zarr, check=False)'''"
   ]
  },
  {
   "cell_type": "code",
   "execution_count": 13,
   "metadata": {},
   "outputs": [
    {
     "data": {
      "text/plain": [
       "'domain_coarse.to_zarr(coarse_zarr, consolidated=True, mode=\"w\")\\ndomain_fine.to_zarr(fine_zarr, consolidated=True, mode=\"w\")'"
      ]
     },
     "execution_count": 13,
     "metadata": {},
     "output_type": "execute_result"
    }
   ],
   "source": [
    "domain_coarse.to_netcdf(domain_coarse_filename)\n",
    "domain_fine.to_netcdf(domain_fine_filename)\n",
    "\n",
    "'''domain_coarse.to_zarr(coarse_zarr, consolidated=True, mode=\"w\")\n",
    "domain_fine.to_zarr(fine_zarr, consolidated=True, mode=\"w\")'''"
   ]
  },
  {
   "cell_type": "markdown",
   "metadata": {},
   "source": [
    "test regridding and saved domain file to ensure that regridder service updates in dodola will address rechunking service issues "
   ]
  },
  {
   "cell_type": "code",
   "execution_count": 14,
   "metadata": {},
   "outputs": [],
   "source": [
    "# regrid an ERA-5 file to the domain file grid \n",
    "era5 = xr.open_dataset(os.path.join('/gcs/impactlab-data/climate/source_data/ERA-5/day/tmax/v1.1', 'tmax_daily_2000-2000.nc'))"
   ]
  },
  {
   "cell_type": "code",
   "execution_count": 18,
   "metadata": {},
   "outputs": [],
   "source": [
    "def validate_domain_file(filepath, test_ds, zarr=False):\n",
    "    if zarr:\n",
    "        domain = xr.open_zarr(filepath)\n",
    "    else: \n",
    "        domain = xr.open_dataset(filepath)\n",
    "        \n",
    "    regridder = xe.Regridder(test_ds.rename({'latitude': 'lat', 'longitude': 'lon'}), domain, method='bilinear')\n",
    "    regridded_ds = regridder(test_ds['tmax'])\n",
    "    \n",
    "    return regridded_ds"
   ]
  },
  {
   "cell_type": "code",
   "execution_count": 19,
   "metadata": {},
   "outputs": [
    {
     "name": "stderr",
     "output_type": "stream",
     "text": [
      "/srv/conda/envs/notebook/lib/python3.8/site-packages/xesmf/frontend.py:450: FutureWarning: ``output_sizes`` should be given in the ``dask_gufunc_kwargs`` parameter. It will be removed as direct parameter in a future version.\n",
      "  dr_out = xr.apply_ufunc(\n"
     ]
    }
   ],
   "source": [
    "era5_regridded = validate_domain_file(domain_fine_filename, era5)"
   ]
  },
  {
   "cell_type": "code",
   "execution_count": null,
   "metadata": {},
   "outputs": [],
   "source": []
  }
 ],
 "metadata": {
  "kernelspec": {
   "display_name": "Python 3",
   "language": "python",
   "name": "python3"
  },
  "language_info": {
   "codemirror_mode": {
    "name": "ipython",
    "version": 3
   },
   "file_extension": ".py",
   "mimetype": "text/x-python",
   "name": "python",
   "nbconvert_exporter": "python",
   "pygments_lexer": "ipython3",
   "version": "3.8.6"
  }
 },
 "nbformat": 4,
 "nbformat_minor": 4
}
