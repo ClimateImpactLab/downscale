{
 "cells": [
  {
   "cell_type": "code",
   "execution_count": 1,
   "metadata": {},
   "outputs": [],
   "source": [
    "%matplotlib inline\n",
    "\n",
    "import matplotlib.pyplot as plt\n",
    "import numpy as np\n",
    "import pandas as pd\n",
    "import xarray as xr\n",
    "import collections\n",
    "import os \n",
    "\n",
    "import warnings\n",
    "warnings.filterwarnings(\"ignore\")\n",
    "\n",
    "import xesmf as xe\n",
    "\n",
    "from utils import (_remove_leap_days, compute_daily_climo, calculate_scaling_factor, apply_scale_factor, \n",
    "                   _convert_ds_longitude)\n",
    "\n",
    "from regridding import apply_weights\n",
    "from core import SpatialDisaggregator\n",
    "\n",
    "import dask.distributed as dd\n",
    "import dask_kubernetes as dk\n",
    "import dask\n",
    "import rhg_compute_tools.kubernetes as rhgk"
   ]
  },
  {
   "cell_type": "code",
   "execution_count": 2,
   "metadata": {},
   "outputs": [],
   "source": [
    "spatial_disaggregator = SpatialDisaggregator(var='temperature')"
   ]
  },
  {
   "cell_type": "markdown",
   "metadata": {},
   "source": [
    "### This notebook tests out the class-based spatial disaggregation workflow. The regridding steps are separate from the fit/predict methods and are provided in the form of a \"recipe\". \n",
    "\n",
    "Steps: \n",
    "\n",
    "1. compute multi-decade daily climatologies of ERA-5 at obs-res and coarsen it to model-res (they, e.g. NASA-NEX, do not say how, we will do bilinear for consistency with later step)\n",
    "2. subtract (or divide for precip) BC’ed model data at model-res from obs climo at model resolution to calculate a “scaling factor” \n",
    "3. bilinearly interpolate “scaling factor” (using xESMF) from the model grid to the obs grid \n",
    "4. Apply scaling factor by adding (for temp) and multiplying (for precip) the “scaling factor” to the obs-res daily climatology "
   ]
  },
  {
   "cell_type": "markdown",
   "metadata": {},
   "source": [
    "load test bias corrected output from global bias correction prototype notebook (BC'ed NASA GISS CMIP6 data)"
   ]
  },
  {
   "cell_type": "code",
   "execution_count": 4,
   "metadata": {},
   "outputs": [],
   "source": [
    "workdir = '/gcs/rhg-data/climate/downscaled/workdir'\n",
    "year = 1990"
   ]
  },
  {
   "cell_type": "code",
   "execution_count": 5,
   "metadata": {},
   "outputs": [],
   "source": [
    "tmax_model = xr.open_dataset(os.path.join(workdir, \n",
    "                                          'global_bias_correction_scaling_test.nc'))"
   ]
  },
  {
   "cell_type": "code",
   "execution_count": 6,
   "metadata": {},
   "outputs": [],
   "source": [
    "tmax_model = tmax_model.loc[dict(time=slice(\"%s-01-01\" %str(year), \"%s-12-31\" %str(year)))]"
   ]
  },
  {
   "cell_type": "code",
   "execution_count": 7,
   "metadata": {},
   "outputs": [],
   "source": [
    "tmax_obs = xr.open_dataset(os.path.join('/gcs/rhg-data/climate/source_data/GMFD/tmax', \n",
    "                                         'tmax_0p25_daily_1990-1990.nc')).squeeze(drop=True\n",
    "                                          ).rename({'latitude': 'lat', 'longitude': 'lon'})"
   ]
  },
  {
   "cell_type": "code",
   "execution_count": 8,
   "metadata": {},
   "outputs": [],
   "source": [
    "# standardize longitudes \n",
    "tmax_obs = _convert_ds_longitude(tmax_obs, lon_name='lon')\n",
    "\n",
    "# remove leap days \n",
    "tmax_obs = _remove_leap_days(tmax_obs)"
   ]
  },
  {
   "cell_type": "markdown",
   "metadata": {},
   "source": [
    "Load daily obs climatology "
   ]
  },
  {
   "cell_type": "code",
   "execution_count": 9,
   "metadata": {},
   "outputs": [],
   "source": [
    "climo_obs_fine = (xr.open_dataset(os.path.join(workdir, 'gmfd_test_climo.nc'))\n",
    "                 .rename({'latitude': 'lat', 'longitude': 'lon'}))"
   ]
  },
  {
   "cell_type": "markdown",
   "metadata": {},
   "source": [
    "### Interpolate obs climo: fine -> coarse "
   ]
  },
  {
   "cell_type": "code",
   "execution_count": 10,
   "metadata": {},
   "outputs": [
    {
     "name": "stdout",
     "output_type": "stream",
     "text": [
      "Reuse existing file: /gcs/rhg-data/climate/downscaled/workdir/obs_to_mod_bilinear_spatial_disagg.nc\n",
      "CPU times: user 27.1 ms, sys: 30.9 ms, total: 57.9 ms\n",
      "Wall time: 94.2 ms\n"
     ]
    }
   ],
   "source": [
    "%%time \n",
    "obs_to_mod_weights = workdir + '/obs_to_mod_bilinear_spatial_disagg.nc'\n",
    "regridder_obs_to_mod = xe.Regridder(tmax_obs.isel(time=0), tmax_model.isel(time=0), \n",
    "                         'bilinear', filename=obs_to_mod_weights, reuse_weights=True)"
   ]
  },
  {
   "cell_type": "code",
   "execution_count": 11,
   "metadata": {},
   "outputs": [
    {
     "name": "stdout",
     "output_type": "stream",
     "text": [
      "CPU times: user 418 ms, sys: 3.34 s, total: 3.76 s\n",
      "Wall time: 3.76 s\n"
     ]
    }
   ],
   "source": [
    "%%time\n",
    "climo_obs_coarse_lazy = xr.map_blocks(apply_weights, regridder_obs_to_mod, \n",
    "                                args=[climo_obs_fine['tmax']])"
   ]
  },
  {
   "cell_type": "code",
   "execution_count": 12,
   "metadata": {},
   "outputs": [
    {
     "name": "stdout",
     "output_type": "stream",
     "text": [
      "CPU times: user 397 µs, sys: 0 ns, total: 397 µs\n",
      "Wall time: 404 µs\n"
     ]
    }
   ],
   "source": [
    "%%time \n",
    "climo_obs_coarse = climo_obs_coarse_lazy.compute()"
   ]
  },
  {
   "cell_type": "markdown",
   "metadata": {},
   "source": [
    "### Compute scaling factor by subtracting for temperature, dividing for precip, the BC'ed model data at model-res from obs climo at model-res. "
   ]
  },
  {
   "cell_type": "code",
   "execution_count": 15,
   "metadata": {},
   "outputs": [],
   "source": [
    "sfc = spatial_disaggregator.fit_scaling_factor(tmax_model, climo_obs_coarse, var_name='tasmax')"
   ]
  },
  {
   "cell_type": "markdown",
   "metadata": {},
   "source": [
    "### Interpolate scaling factor: coarse (model grid) -> fine (obs grid)"
   ]
  },
  {
   "cell_type": "code",
   "execution_count": 16,
   "metadata": {},
   "outputs": [
    {
     "name": "stdout",
     "output_type": "stream",
     "text": [
      "Reuse existing file: /gcs/rhg-data/climate/downscaled/workdir/mod_to_obs_bilinear_spatial_disagg.nc\n",
      "CPU times: user 58.1 ms, sys: 238 ms, total: 297 ms\n",
      "Wall time: 357 ms\n"
     ]
    }
   ],
   "source": [
    "%%time\n",
    "mod_to_obs_weights = workdir + '/mod_to_obs_bilinear_spatial_disagg.nc'\n",
    "regridder_mod_to_obs = xe.Regridder(tmax_model.isel(time=0), \n",
    "                                    tmax_obs.isel(time=0), \n",
    "                         'bilinear', filename=mod_to_obs_weights, reuse_weights=True)"
   ]
  },
  {
   "cell_type": "code",
   "execution_count": 17,
   "metadata": {},
   "outputs": [
    {
     "name": "stdout",
     "output_type": "stream",
     "text": [
      "CPU times: user 4.12 s, sys: 8.1 s, total: 12.2 s\n",
      "Wall time: 12.2 s\n"
     ]
    }
   ],
   "source": [
    "%%time\n",
    "sfc = sfc.drop('dayofyear')\n",
    "sff_lazy = xr.map_blocks(apply_weights, regridder_mod_to_obs, \n",
    "                                args=[sfc])\n",
    "sff_lazy_compute = sff_lazy.compute()"
   ]
  },
  {
   "cell_type": "markdown",
   "metadata": {},
   "source": [
    "### Add (or multiply for precip) the scaling factor to the obs-res daily climatology"
   ]
  },
  {
   "cell_type": "code",
   "execution_count": 18,
   "metadata": {},
   "outputs": [],
   "source": [
    "ds_varname = 'scale_factor_fine'\n",
    "sff_ds = sff_lazy_compute.to_dataset(name=ds_varname)"
   ]
  },
  {
   "cell_type": "code",
   "execution_count": 20,
   "metadata": {},
   "outputs": [],
   "source": [
    "# spatial_disaggregator.fit_scaling_factor(tmax_model, climo_obs_coarse, var_name='tasmax')\n",
    "mod_yr_downscaled = spatial_disaggregator.apply_scaling_factor(sff_ds, climo_obs_fine, var_name=ds_varname)"
   ]
  },
  {
   "cell_type": "code",
   "execution_count": 21,
   "metadata": {},
   "outputs": [
    {
     "name": "stdout",
     "output_type": "stream",
     "text": [
      "finished 1990\n"
     ]
    }
   ],
   "source": [
    "filepath = workdir + '/spatial_disagg_prototype/%s_class_recipe.nc' %str(year)\n",
    "mod_yr_downscaled.to_netcdf(filepath)\n",
    "print(\"finished %s\" %str(year))"
   ]
  },
  {
   "cell_type": "code",
   "execution_count": null,
   "metadata": {},
   "outputs": [],
   "source": []
  }
 ],
 "metadata": {
  "kernelspec": {
   "display_name": "Python 3",
   "language": "python",
   "name": "python3"
  },
  "language_info": {
   "codemirror_mode": {
    "name": "ipython",
    "version": 3
   },
   "file_extension": ".py",
   "mimetype": "text/x-python",
   "name": "python",
   "nbconvert_exporter": "python",
   "pygments_lexer": "ipython3",
   "version": "3.7.3"
  }
 },
 "nbformat": 4,
 "nbformat_minor": 4
}
